{
  "nbformat": 4,
  "nbformat_minor": 0,
  "metadata": {
    "colab": {
      "name": "HackerRank-List Comprehensions.ipynb",
      "provenance": [],
      "collapsed_sections": [],
      "authorship_tag": "ABX9TyP52wmt9gB6A3u6MgiHX4jF",
      "include_colab_link": true
    },
    "kernelspec": {
      "name": "python3",
      "display_name": "Python 3"
    },
    "language_info": {
      "name": "python"
    }
  },
  "cells": [
    {
      "cell_type": "markdown",
      "metadata": {
        "id": "view-in-github",
        "colab_type": "text"
      },
      "source": [
        "<a href=\"https://colab.research.google.com/github/drsahin/HacerRank--Python/blob/main/HackerRank_List_Comprehensions.ipynb\" target=\"_parent\"><img src=\"https://colab.research.google.com/assets/colab-badge.svg\" alt=\"Open In Colab\"/></a>"
      ]
    },
    {
      "cell_type": "markdown",
      "metadata": {
        "id": "VMMiJTZ3p_r_"
      },
      "source": [
        "List Comprehensions\n",
        "\n",
        "Let's learn about list comprehensions! You are given three integers X,Y and Z representing the dimensions of a cuboid along with an integer N. You have to print a list of all possible coordinates given by (i,j,k) on a 3D grid where the sum of i+j+k is not equal to N. Here, 0<=i<=X; 0<=j<=Y; 0<=k<=Z\n",
        "\n",
        "\n",
        "Input Format :\n",
        "Four integers X,Y,Z and N each on four separate lines, respectively.\n",
        "\n",
        "Constraints :\n",
        "Print the list in lexicographic increasing order.\n",
        "\n",
        "Sample Input 0:\n",
        "1\n",
        "1\n",
        "1\n",
        "2\n",
        "\n",
        "Sample Output 0:\n",
        "[[0, 0, 0], [0, 0, 1], [0, 1, 0], [1, 0, 0], [1, 1, 1]]\n",
        "\n",
        "Explanation 0 :\n",
        "Concept\n",
        "You have already used lists in previous hacks. List comprehensions are an elegant way to build a list without having to use different for loops to append values one by one. This example might help.\n",
        "Example : You are given two integers x and y . You need to find out the ordered pairs ( i , j ) , such that ( i + j ) is not equal to n and print them in lexicographic order.( 0 <= i <= x ) and ( 0 <= j <= y) This is the code if we dont use list comprehensions in Python.\n",
        "\n",
        "python x = int ( raw_input()) y = int ( raw_input()) n = int ( raw_input()) ar = [] p = 0 for i in range ( x + 1 ) : for j in range( y + 1): if i+j != n: ar.append([]) ar[p] = [ i , j ] p+=1 print arr\n",
        "Other smaller codes may also exist, but using list comprehensions is always a good option. Code using list comprehensions:\n",
        "\n",
        "python x = int ( raw_input()) y = int ( raw_input()) n = int ( raw_input()) print [ [ i, j] for i in range( x + 1) for j in range( y + 1) if ( ( i + j ) != n )]\n",
        "\n",
        "Sample Input 1 :\n",
        "2\n",
        "2\n",
        "2\n",
        "2\n",
        "\n",
        "Sample Output 2 :\n",
        "[[0, 0, 0], [0, 0, 1], [0, 1, 0], [0, 1, 2], [0, 2, 1], [0, 2, 2], [1, 0, 0], [1, 0, 2], [1, 1, 1], [1, 1, 2], [1, 2, 0], [1, 2, 1], [1, 2, 2], [2, 0, 1], [2, 0, 2], [2, 1, 0], [2, 1, 1], [2, 1, 2], [2, 2, 0], [2, 2, 1], [2, 2, 2]]\n",
        "\n"
      ]
    },
    {
      "cell_type": "code",
      "metadata": {
        "id": "KeeSz61mpr51"
      },
      "source": [
        "if __name__ == '__main__':\n",
        "    x = int(input())\n",
        "    y = int(input())\n",
        "    z = int(input())\n",
        "    n = int(input())\n",
        "    output = [];\n",
        "    abc = [];\n",
        "    for X in range(x+1):\n",
        "        for Y in range(y+1):\n",
        "            for Z in range(z+1):\n",
        "                if X+Y+Z != n:\n",
        "                    abc = [X,Y,Z]\n",
        "                    output.append(abc)\n",
        "print(output)\n"
      ],
      "execution_count": null,
      "outputs": []
    },
    {
      "cell_type": "code",
      "metadata": {
        "id": "WnkKwIXdqLNv"
      },
      "source": [
        "x=2\n",
        "y=2\n",
        "z=2\n",
        "n=2\n",
        "\n",
        "output = [ [X,Y,Z] for X in range(x+1) for Y in range(y+1) for Z in range(z+1) if X+Y+Z != n]\n",
        "print(output)"
      ],
      "execution_count": null,
      "outputs": []
    },
   
        
