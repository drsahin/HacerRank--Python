{
  "nbformat": 4,
  "nbformat_minor": 0,
  "metadata": {
    "colab": {
      "name": "HackerRank-List Comprehensions and String Validators.ipynb",
      "provenance": [],
      "collapsed_sections": [],
      "authorship_tag": "ABX9TyMl3yswKcaWtspPJGcIpwiE",
      "include_colab_link": true
    },
    "kernelspec": {
      "name": "python3",
      "display_name": "Python 3"
    },
    "language_info": {
      "name": "python"
    }
  },
  "cells": [
    {
      "cell_type": "markdown",
      "metadata": {
        "id": "view-in-github",
        "colab_type": "text"
      },
      "source": [
        "<a href=\"https://colab.research.google.com/github/drsahin/HacerRank--Python/blob/main/HackerRank_List_Comprehensions_and_String_Validators.ipynb\" target=\"_parent\"><img src=\"https://colab.research.google.com/assets/colab-badge.svg\" alt=\"Open In Colab\"/></a>"
      ]
    },
    {
      "cell_type": "markdown",
      "metadata": {
        "id": "VMMiJTZ3p_r_"
      },
      "source": [
        "1-List Comprehensions\n",
        "\n",
        "Let's learn about list comprehensions! You are given three integers X,Y and Z representing the dimensions of a cuboid along with an integer N. You have to print a list of all possible coordinates given by (i,j,k) on a 3D grid where the sum of i+j+k is not equal to N. Here, 0<=i<=X; 0<=j<=Y; 0<=k<=Z\n",
        "\n",
        "\n",
        "Input Format :\n",
        "Four integers X,Y,Z and N each on four separate lines, respectively.\n",
        "\n",
        "Constraints :\n",
        "Print the list in lexicographic increasing order.\n",
        "\n",
        "Sample Input 0:\n",
        "1\n",
        "1\n",
        "1\n",
        "2\n",
        "\n",
        "Sample Output 0:\n",
        "[[0, 0, 0], [0, 0, 1], [0, 1, 0], [1, 0, 0], [1, 1, 1]]\n",
        "\n",
        "Explanation 0 :\n",
        "Concept\n",
        "You have already used lists in previous hacks. List comprehensions are an elegant way to build a list without having to use different for loops to append values one by one. This example might help.\n",
        "Example : You are given two integers x and y . You need to find out the ordered pairs ( i , j ) , such that ( i + j ) is not equal to n and print them in lexicographic order.( 0 <= i <= x ) and ( 0 <= j <= y) This is the code if we dont use list comprehensions in Python.\n",
        "\n",
        "python x = int ( raw_input()) y = int ( raw_input()) n = int ( raw_input()) ar = [] p = 0 for i in range ( x + 1 ) : for j in range( y + 1): if i+j != n: ar.append([]) ar[p] = [ i , j ] p+=1 print arr\n",
        "Other smaller codes may also exist, but using list comprehensions is always a good option. Code using list comprehensions:\n",
        "\n",
        "python x = int ( raw_input()) y = int ( raw_input()) n = int ( raw_input()) print [ [ i, j] for i in range( x + 1) for j in range( y + 1) if ( ( i + j ) != n )]\n",
        "\n",
        "Sample Input 1 :\n",
        "2\n",
        "2\n",
        "2\n",
        "2\n",
        "\n",
        "Sample Output 2 :\n",
        "[[0, 0, 0], [0, 0, 1], [0, 1, 0], [0, 1, 2], [0, 2, 1], [0, 2, 2], [1, 0, 0], [1, 0, 2], [1, 1, 1], [1, 1, 2], [1, 2, 0], [1, 2, 1], [1, 2, 2], [2, 0, 1], [2, 0, 2], [2, 1, 0], [2, 1, 1], [2, 1, 2], [2, 2, 0], [2, 2, 1], [2, 2, 2]]\n",
        "\n"
      ]
    },
    {
      "cell_type": "code",
      "metadata": {
        "id": "KeeSz61mpr51"
      },
      "source": [
        "if __name__ == '__main__':\n",
        "    x = int(input())\n",
        "    y = int(input())\n",
        "    z = int(input())\n",
        "    n = int(input())\n",
        "    output = [];\n",
        "    abc = [];\n",
        "    for X in range(x+1):\n",
        "        for Y in range(y+1):\n",
        "            for Z in range(z+1):\n",
        "                if X+Y+Z != n:\n",
        "                    abc = [X,Y,Z]\n",
        "                    output.append(abc)\n",
        "print(output)"
      ],
      "execution_count": null,
      "outputs": []
    },
    {
      "cell_type": "code",
      "metadata": {
        "id": "WnkKwIXdqLNv"
      },
      "source": [
        "if __name__ == '__main__':\n",
        "    x = int(input())\n",
        "    y = int(input())\n",
        "    z = int(input())\n",
        "    n = int(input())\n",
        "output = [ [X,Y,Z] for X in range(x+1) for Y in range(y+1) for Z in range(z+1) if X+Y+Z != n]\n",
        "print(output)"
      ],
      "execution_count": null,
      "outputs": []
    },
    {
      "cell_type": "code",
      "metadata": {
        "id": "ows45g02FPQb"
      },
      "source": [
        ""
      ],
      "execution_count": null,
      "outputs": []
    },
    {
      "cell_type": "markdown",
      "metadata": {
        "id": "e0yE84Hy-pu7"
      },
      "source": [
        "2-String Validators \n",
        "\n",
        "Python has built-in string validation methods for basic data. It can check if a string is composed of alphabetical characters, alphanumeric characters, digits, etc.\n",
        "## Yeni Bölüm\n",
        "str.isalnum()\n",
        "This method checks if all the characters of a string are alphanumeric (a-z, A-Z and 0-9).\n",
        ">>> print 'ab123'.isalnum()\n",
        "True\n",
        "\n",
        ">>> print 'ab123#'.isalnum()\n",
        "False\n",
        "\n",
        "str.isalpha()\n",
        "This method checks if all the characters of a string are alphabetical (a-z and A-Z).\n",
        ">>> print 'abcD'.isalpha()\n",
        "True\n",
        "\n",
        ">>> print 'abcd1'.isalpha()\n",
        "False\n",
        "\n",
        "str.isdigit()\n",
        "This method checks if all the characters of a string are digits (0-9).\n",
        ">>> print '1234'.isdigit()\n",
        "True\n",
        "\n",
        ">>> print '123edsd'.isdigit()\n",
        "False\n",
        "\n",
        "str.islower()\n",
        "This method checks if all the characters of a string are lowercase characters (a-z).\n",
        ">>> print 'abcd123#'.islower()\n",
        "True\n",
        "\n",
        ">>> print 'Abcd123#'.islower()\n",
        "False\n",
        "\n",
        "str.isupper()\n",
        "This method checks if all the characters of a string are uppercase characters (A-Z).\n",
        ">>> print 'ABCD123#'.isupper()\n",
        "True\n",
        "\n",
        ">>> print 'Abcd123#'.isupper()\n",
        "False\n",
        "\n",
        "Task :\n",
        "You are given a string S.\n",
        "Your task is to find out if the string S contains: alphanumeric characters, alphabetical characters, digits, lowercase and uppercase characters.\n",
        "\n",
        "\n",
        "\n",
        "\n",
        "\n",
        "\n",
        "\n",
        "\n"
      ]
    },
    {
      "cell_type": "code",
      "metadata": {
        "id": "OEUg0ugr-zwH"
      },
      "source": [
        " s = input()\n",
        "    print(any(c.isalnum() for c in s))\n",
        "    print(any(c.isalpha() for c in s))\n",
        "    print(any(c.isdigit() for c in s))\n",
        "    print(any(c.islower() for c in s))\n",
        "    print(any(c.isupper() for c in s))"
      ],
      "execution_count": null,
      "outputs": []
    },
    {
      "cell_type": "code",
      "metadata": {
        "id": "Fx5CKDYs_WWf"
      },
      "source": [
        ""
      ],
      "execution_count": null,
      "outputs": []
    }
  ]
}